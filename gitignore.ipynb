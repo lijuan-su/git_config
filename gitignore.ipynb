{
 "cells": [
  {
   "cell_type": "markdown",
   "metadata": {},
   "source": [
    "# Ignoreing files"
   ]
  },
  {
   "cell_type": "markdown",
   "metadata": {},
   "source": [
    "## Create a local .gitignore"
   ]
  },
  {
   "cell_type": "markdown",
   "metadata": {},
   "source": [
    "- In terminal, navigate to the location of Git repository.\n",
    "- Enter ```touch .gitignore``` to create a *.gitignore* file\n",
    "- The Octocat has [a Gist containing some good rules](https://gist.github.com/octocat/9257657) to add to this file."
   ]
  },
  {
   "cell_type": "markdown",
   "metadata": {},
   "source": [
    "If you already have a file checked in, and you want to ignore it, Git will not ignore the file if you add a rule later. In those cases, you must untrack the file first, by running the following command in your terminal:\n",
    "\n",
    "```git rm --cached FILENAME ```"
   ]
  },
  {
   "cell_type": "markdown",
   "metadata": {},
   "source": [
    "## Create a global .gitignore"
   ]
  },
  {
   "cell_type": "markdown",
   "metadata": {},
   "source": [
    "```\n",
    "git config --global core.excludesfile ~/.gitignore_global\n",
    "```"
   ]
  },
  {
   "cell_type": "markdown",
   "metadata": {},
   "source": [
    "- An example\n",
    "```\n",
    "git init\n",
    "git add *\n",
    "git commit -m \"first commit\"\n",
    "git remote add origin https://github.com/lijuan-su/test.git\n",
    "git remote -v\n",
    "git push -u origin master\n",
    "```"
   ]
  },
  {
   "cell_type": "markdown",
   "metadata": {},
   "source": [
    "```\n",
    "# Compiled source #\n",
    "###################\n",
    "*.com\n",
    "*.class\n",
    "*.dll\n",
    "*.exe\n",
    "*.o\n",
    "*.so\n",
    "\n",
    "# Packages #\n",
    "############\n",
    "# it's better to unpack these files and commit the raw source\n",
    "# git has its own built in compression methods\n",
    "*.7z\n",
    "*.dmg\n",
    "*.gz\n",
    "*.iso\n",
    "*.jar\n",
    "*.rar\n",
    "*.tar\n",
    "*.zip\n",
    "\n",
    "# Logs and databases #\n",
    "######################\n",
    "*.log\n",
    "*.sql\n",
    "*.sqlite\n",
    "\n",
    "# OS generated files #\n",
    "######################\n",
    ".DS_Store\n",
    ".DS_Store?\n",
    "._*\n",
    ".Spotlight-V100\n",
    ".Trashes\n",
    "ehthumbs.db\n",
    "Thumbs.db\n",
    "```"
   ]
  },
  {
   "cell_type": "code",
   "execution_count": null,
   "metadata": {},
   "outputs": [],
   "source": []
  }
 ],
 "metadata": {
  "kernelspec": {
   "display_name": "Python 3",
   "language": "python",
   "name": "python3"
  },
  "language_info": {
   "codemirror_mode": {
    "name": "ipython",
    "version": 3
   },
   "file_extension": ".py",
   "mimetype": "text/x-python",
   "name": "python",
   "nbconvert_exporter": "python",
   "pygments_lexer": "ipython3",
   "version": "3.6.4"
  }
 },
 "nbformat": 4,
 "nbformat_minor": 2
}
